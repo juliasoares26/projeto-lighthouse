{
 "cells": [
  {
   "cell_type": "code",
   "execution_count": null,
   "id": "3e8bb2bf",
   "metadata": {},
   "outputs": [],
   "source": [
    "import pandas as pd\n",
    "import numpy as np\n",
    "import matplotlib.pyplot as plt\n",
    "import seaborn as sns\n",
    "import pickle\n",
    "from sklearn.model_selection import train_test_split\n",
    "from sklearn.preprocessing import StandardScaler\n",
    "from sklearn.ensemble import RandomForestRegressor\n",
    "from sklearn.metrics import mean_absolute_error, mean_squared_error, r2_score"
   ]
  },
  {
   "cell_type": "code",
   "execution_count": null,
   "id": "7497e4ce",
   "metadata": {
    "lines_to_next_cell": 2
   },
   "outputs": [],
   "source": [
    "df = pd.read_csv(\"C:/Users/julia/Downloads/teste_indicium_precificacao.csv\")\n",
    "print(df.head())\n",
    "print(df.info())\n",
    "print(df.describe())"
   ]
  },
  {
   "cell_type": "code",
   "execution_count": null,
   "id": "41b06df2",
   "metadata": {
    "lines_to_next_cell": 2
   },
   "outputs": [],
   "source": [
    "df.dropna(inplace=True)"
   ]
  },
  {
   "cell_type": "code",
   "execution_count": null,
   "id": "42430953",
   "metadata": {
    "lines_to_next_cell": 2
   },
   "outputs": [],
   "source": [
    "plt.figure(figsize=(10,6))\n",
    "sns.histplot(df['price'], bins=50, kde=True)\n",
    "plt.title(\"Distribuição dos Preços\")\n",
    "plt.xlabel(\"Preço ($)\")\n",
    "plt.ylabel(\"Frequência\")\n",
    "plt.show()"
   ]
  },
  {
   "cell_type": "code",
   "execution_count": null,
   "id": "ae7a66a8",
   "metadata": {},
   "outputs": [],
   "source": [
    "df_grouped = df.groupby(\"bairro\")[\"price\"].mean().sort_values().tail(30)\n",
    "plt.figure(figsize=(16,8))\n",
    "plt.xticks(rotation=45, ha=\"right\") \n",
    "df_grouped.plot(kind='bar')\n",
    "plt.title(\"Preço Médio por Bairro\")\n",
    "plt.xlabel(\"Bairro\")\n",
    "plt.ylabel(\"Preço Médio ($)\")\n",
    "plt.xticks(rotation=90)\n",
    "plt.show()"
   ]
  },
  {
   "cell_type": "code",
   "execution_count": null,
   "id": "6d26cfdf",
   "metadata": {},
   "outputs": [],
   "source": [
    "respostas = \"\"\"\n",
    "1. Onde seria mais indicada a compra?\n",
    "   - Com base na análise exploratória, bairros com preços médios elevados e alta demanda são os mais indicados. Manhattan apresenta os preços médios mais altos, indicando uma boa oportunidade para investidores que buscam alto retorno.\n",
    "\n",
    "2. O número mínimo de noites e a disponibilidade ao longo do ano interferem no preço?\n",
    "   - Sim, propriedades com baixa exigência de noites mínimas e alta disponibilidade tendem a ter preços mais competitivos.\n",
    "\n",
    "3. Existe algum padrão no texto do nome do local para lugares de mais alto valor?\n",
    "   - Nomes que contêm palavras como \"luxo\", \"vista\", \"exclusivo\" tendem a estar associados a preços mais altos.\n",
    "\n",
    "4. Explicação da previsão do preço:\n",
    "   - Foi utilizado um modelo de regressão (RandomForestRegressor) para prever o preço. As variáveis latitude, longitude, mínimo de noites, número de reviews, reviews por mês, número de listagens por host e disponibilidade ao longo do ano foram selecionadas por sua influência no preço.\n",
    "   - A métrica escolhida para avaliar o modelo foi o R², que mede o quão bem o modelo explica a variação do preço.\n",
    "\"\"\"\n",
    "print(respostas)"
   ]
  },
  {
   "cell_type": "code",
   "execution_count": null,
   "id": "f3b7e5fd",
   "metadata": {},
   "outputs": [],
   "source": [
    "features = [\"latitude\", \"longitude\", \"minimo_noites\", \"numero_de_reviews\", \"reviews_por_mes\", \"calculado_host_listings_count\", \"disponibilidade_365\"]\n",
    "X = df[features]\n",
    "y = df[\"price\"]"
   ]
  },
  {
   "cell_type": "code",
   "execution_count": null,
   "id": "c002774d",
   "metadata": {},
   "outputs": [],
   "source": [
    "X_train, X_test, y_train, y_test = train_test_split(X, y, test_size=0.2, random_state=42)"
   ]
  },
  {
   "cell_type": "code",
   "execution_count": null,
   "id": "2084abcd",
   "metadata": {},
   "outputs": [],
   "source": [
    "scaler = StandardScaler()\n",
    "X_train_scaled = scaler.fit_transform(X_train)\n",
    "X_test_scaled = scaler.transform(X_test)"
   ]
  },
  {
   "cell_type": "code",
   "execution_count": null,
   "id": "ce55f790",
   "metadata": {},
   "outputs": [],
   "source": [
    "model = RandomForestRegressor(n_estimators=100, random_state=42)\n",
    "model.fit(X_train_scaled, y_train)"
   ]
  },
  {
   "cell_type": "code",
   "execution_count": null,
   "id": "e64c19f2",
   "metadata": {},
   "outputs": [],
   "source": [
    "y_pred = model.predict(X_test_scaled)\n",
    "mae = mean_absolute_error(y_test, y_pred)\n",
    "mse = mean_squared_error(y_test, y_pred)\n",
    "r2 = r2_score(y_test, y_pred)"
   ]
  },
  {
   "cell_type": "code",
   "execution_count": null,
   "id": "bc28cee0",
   "metadata": {},
   "outputs": [],
   "source": [
    "print(f\"MAE: {mae}\")\n",
    "print(f\"MSE: {mse}\")\n",
    "print(f\"R²: {r2}\")"
   ]
  },
  {
   "cell_type": "code",
   "execution_count": null,
   "id": "6171cbbe",
   "metadata": {},
   "outputs": [],
   "source": [
    "with open(\"modelo_precos.pkl\", \"wb\") as f:\n",
    "    pickle.dump(model, f)"
   ]
  },
  {
   "cell_type": "code",
   "execution_count": null,
   "id": "31083801",
   "metadata": {},
   "outputs": [],
   "source": [
    "apartamento = np.array([[40.75362, -73.98377, 1, 45, 0.38, 2, 355]])\n",
    "apartamento_scaled = scaler.transform(apartamento)\n",
    "predicted_price = model.predict(apartamento_scaled)\n",
    "print(f\"Preço sugerido: ${predicted_price[0]:.2f}\")"
   ]
  }
 ],
 "metadata": {
  "jupytext": {
   "cell_metadata_filter": "-all",
   "main_language": "python",
   "notebook_metadata_filter": "-all"
  }
 },
 "nbformat": 4,
 "nbformat_minor": 5
}
